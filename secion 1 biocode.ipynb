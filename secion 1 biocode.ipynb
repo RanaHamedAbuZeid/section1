{
 "cells": [
  {
   "cell_type": "code",
   "execution_count": 1,
   "id": "fbe609bc",
   "metadata": {},
   "outputs": [
    {
     "name": "stdout",
     "output_type": "stream",
     "text": [
      "Collecting pyopenms\n",
      "  Downloading pyopenms-2.7.0-cp37-cp37m-win_amd64.whl (29.5 MB)\n",
      "Requirement already satisfied: numpy in c:\\users\\ranah\\anaconda3\\envs\\rstudio\\lib\\site-packages (from pyopenms) (1.21.6)\n",
      "Installing collected packages: pyopenms\n",
      "Successfully installed pyopenms-2.7.0\n"
     ]
    }
   ],
   "source": [
    "!pip install pyopenms"
   ]
  },
  {
   "cell_type": "code",
   "execution_count": 5,
   "id": "d16783f5",
   "metadata": {},
   "outputs": [
    {
     "name": "stdout",
     "output_type": "stream",
     "text": [
      "Help on module pyopenms.Constants in pyopenms:\n",
      "\n",
      "NAME\n",
      "    pyopenms.Constants\n",
      "\n",
      "DESCRIPTION\n",
      "    # @brief Mathematical and physical constants namespace.\n",
      "    # \n",
      "    # This namespace contains definitions for some basic mathematical and physical constants.\n",
      "    # All constants are double precision.\n",
      "\n",
      "DATA\n",
      "    AVOGADRO = 6.0221367e+23\n",
      "    BOHR_RADIUS = 5.29177249e-11\n",
      "    BOLTZMANN = 1.380657e-23\n",
      "    C13C12_MASSDIFF_U = 1.0033548378\n",
      "    CAL_PER_JOULE = 0.2390057361376673\n",
      "    DEG_PER_RAD = 57.29577951308232\n",
      "    E = 2.718281828459045\n",
      "    ELECTRON_MASS = 9.1093897e-31\n",
      "    ELECTRON_MASS_U = 0.0005485799042984105\n",
      "    ELEMENTARY_CHARGE = 1.60217738e-19\n",
      "    EPSILON = 1e-06\n",
      "    F = 96485.31200007845\n",
      "    FARADAY = 96485.31200007845\n",
      "    FINE_STRUCTURE_CONSTANT = 0.00729735\n",
      "    FRAGMENT_ANNOTATION_USERPARAM = 'fragment_annotation'\n",
      "    GAS_CONSTANT = 8.314505189811898\n",
      "    GRAVITATIONAL_CONSTANT = 6.67259e-11\n",
      "    JOULE_PER_CAL = 4.184\n",
      "    MM_PER_INCH = 25.4\n",
      "    MOL = 6.0221367e+23\n",
      "    M_PER_FOOT = 3.048\n",
      "    NA = 6.0221367e+23\n",
      "    NEUTRON_MASS = 1.6749286e-27\n",
      "    NEUTRON_MASS_U = 1.00866491566\n",
      "    PI = 3.141592653589793\n",
      "    PLANCK = 6.6260754e-34\n",
      "    PRECURSOR_ERROR_PPM_USERPARAM = 'precursor_mz_error_ppm'\n",
      "    PROTON_MASS = 1.672623e-27\n",
      "    PROTON_MASS_U = 1.007276466771\n",
      "    R = 8.314505189811898\n",
      "    RAD_PER_DEG = 0.017453292519943295\n",
      "    SPEED_OF_LIGHT = 299792458.0\n",
      "    VACUUM_PERMEABILITY = 1.2566370614359173e-06\n",
      "    VACUUM_PERMITTIVITY = 8.85419e-12\n",
      "    a0 = 5.29177249e-11\n",
      "    c = 299792458.0\n",
      "    e0 = 1.60217738e-19\n",
      "    h = 6.6260754e-34\n",
      "    k = 1.380657e-23\n",
      "\n",
      "FILE\n",
      "    c:\\users\\ranah\\anaconda3\\envs\\rstudio\\lib\\site-packages\\pyopenms\\constants.py\n",
      "\n",
      "\n",
      "the number of avogadro is  ->  6.0221367e+23\n",
      "the number of electron mass is  ->  9.1093897e-31\n",
      "the number of PI value is  ->  9.1093897e-31\n"
     ]
    }
   ],
   "source": [
    "#importing pyopenms library \n",
    "import pyopenms\n",
    "#show the constant values using help func. \n",
    "\n",
    "help(pyopenms.Constants)\n",
    "#try printing some constant values : \n",
    "\n",
    "print (\"the number of avogadro is  -> \", pyopenms.Constants.AVOGADRO)\n",
    "print (\"the number of electron mass is  -> \", pyopenms.Constants. ELECTRON_MASS)\n",
    "print (\"the number of PI value is  -> \", pyopenms.Constants. ELECTRON_MASS)"
   ]
  },
  {
   "cell_type": "code",
   "execution_count": 21,
   "id": "09dba24d",
   "metadata": {},
   "outputs": [
    {
     "name": "stdout",
     "output_type": "stream",
     "text": [
      "name of element is ->  Oxygen\n",
      "the mono wieght is ->  15.994915\n",
      "the symbol of the element is ->  O\n",
      "the avg weight of element is ->  15.999405323160001\n"
     ]
    }
   ],
   "source": [
    "#Get elements from the periodic table in chemistry\n",
    "\n",
    "from pyopenms import *\n",
    "\n",
    "table=ElementDB()\n",
    "#get some elements from the table: O,N\n",
    "table.hasElement(\"Oxygen\")\n",
    "table.hasElement(\"Nitrogen\")\n",
    "\n",
    "ox=table.getElement(\"Oxygen\")\n",
    "ng=table.getElement(\"Nitrogen\")\n",
    "\n",
    "#print some of those elements information  :\n",
    "print(\"name of element is -> \",ox.getName())\n",
    "print(\"the mono wieght is -> \",ox.getMonoWeight())\n",
    "print(\"the symbol of the element is -> \",ox.getSymbol())\n",
    "print(\"the avg weight of element is -> \", ox.getAverageWeight())\n",
    "\n",
    "#isotopes of an element is these variants have same number of protons but differ in the\n",
    "#number of neutrons in the atom\n",
    "\n"
   ]
  },
  {
   "cell_type": "code",
   "execution_count": 30,
   "id": "97618a82",
   "metadata": {},
   "outputs": [
    {
     "name": "stdout",
     "output_type": "stream",
     "text": [
      " oxygen isotopes are:   15.994915 with abundance :  99.75699782371521 %\n",
      " oxygen isotopes are:   16.999132 with abundance :  0.03800000122282654 %\n",
      " oxygen isotopes are:   17.999169 with abundance :  0.20500000100582838 %\n"
     ]
    }
   ],
   "source": [
    "#print the isotopes for the elements-> : \n",
    "\n",
    "isotopes = ox.getIsotopeDistribution()\n",
    "\n",
    "oxyIso = {\"Mass\": [], \"abundance\": []}\n",
    "nitroIso = {\"Mass\": [], \"abundance\": []}\n",
    " \n",
    "for iso in isotopes.getContainer():\n",
    "    print (\" oxygen isotopes are:  \", iso.getMZ(), \"with abundance : \", iso.getIntensity()*100,\"%\")\n",
    "    oxyIso[\"Mass\"].append(iso.getMZ())\n",
    "    oxyIso[\"abundance\"].append((iso.getIntensity() * 100))\n"
   ]
  },
  {
   "cell_type": "code",
   "execution_count": 34,
   "id": "39f6371a",
   "metadata": {},
   "outputs": [
    {
     "name": "stdout",
     "output_type": "stream",
     "text": [
      "The Mass difference between isotope c12 and c13 is ->  1.0033550000000009\n",
      "The mass difference between isotope 14N and N15 is ->  0.9970350000000003\n",
      "Relative deviation: 0.6298867300208343 %\n"
     ]
    }
   ],
   "source": [
    "# Mass Defect:which describes the difference between the mass\n",
    "#of an atom and the mass of its constituent particles\n",
    "table2 = ElementDB()\n",
    "isotopes = table2.getElement(\"C\").getIsotopeDistribution().getContainer()\n",
    "cIsoDiff = isotopes[1].getMZ() - isotopes[0].getMZ()\n",
    "\n",
    "isotopes = table2.getElement(\"N\").getIsotopeDistribution().getContainer()\n",
    "nIsoDiff = isotopes[1].getMZ() - isotopes[0].getMZ()\n",
    "\n",
    "print (\"The Mass difference between isotope c12 and c13 is -> \", cIsoDiff)\n",
    "print (\"The mass difference between isotope 14N and N15 is -> \", nIsoDiff)\n",
    "print (\"Relative deviation:\", 100*(cIsoDiff -\n",
    "        nIsoDiff)/cIsoDiff, \"%\")"
   ]
  },
  {
   "cell_type": "code",
   "execution_count": 36,
   "id": "7e5f80f7",
   "metadata": {},
   "outputs": [
    {
     "name": "stdout",
     "output_type": "stream",
     "text": [
      "Ethanol chemical formula: C2H6O1\n",
      "Ethanol composition: {b'C': 2, b'H': 6, b'O': 1}\n",
      "Ethanol has 6 hydrogen atoms\n"
     ]
    }
   ],
   "source": [
    "######-----Molecular Formulae---class EmpiricalFormula()---######\n",
    "methanol = EmpiricalFormula(\"CH3OH\")\n",
    "ethanol = EmpiricalFormula(\"CH2\") + methanol\n",
    "water = EmpiricalFormula(\"H2O\")\n",
    "\n",
    "print(\"the ethanol formula is ->\", ethanol.toString())\n",
    "print(\"ethanol composition is ->\", ethanol.getElementalComposition())\n",
    "print(\"ethanol has -> \", ethanol.getElementalComposition()[b\"H\"], \"hydrogen atoms\")"
   ]
  },
  {
   "cell_type": "code",
   "execution_count": 39,
   "id": "7bee78e0",
   "metadata": {},
   "outputs": [
    {
     "name": "stdout",
     "output_type": "stream",
     "text": [
      "Name  Lysine\n",
      "One  Letter Code K\n",
      "Three Letter Code Lys\n",
      "Three Letter Code 2.16\n",
      "Formula C6H14N2O2\n",
      "Average Weight 146.18788276708446\n"
     ]
    }
   ],
   "source": [
    "######-----Amino Acid---class ResidueDB()---######\n",
    "lysn = ResidueDB().getResidue(\"Lysine\")\n",
    "#print some of Amino Acid information  :\n",
    "print(\"Name \",lysn.getName())\n",
    "print(\"One  Letter Code\",lysn.getOneLetterCode())\n",
    "print(\"Three Letter Code\",lysn.getThreeLetterCode())\n",
    "print(\"Three Letter Code\",lysn.getPka())\n",
    "print(\"Formula\",lysn.getFormula().toString())\n",
    "\n",
    "print(\"Average Weight\",lysn.getAverageWeight())\n"
   ]
  },
  {
   "cell_type": "code",
   "execution_count": 43,
   "id": "cccdd01a",
   "metadata": {},
   "outputs": [
    {
     "name": "stdout",
     "output_type": "stream",
     "text": [
      "Name :  uridine\n",
      "Letter Code : U\n",
      "avrage mass: 244.2043\n",
      "mono mass: 244.0695\n",
      "structure:  C9H12N2O6\n",
      "is Modified: False\n",
      "1-methyladenosine\n",
      "True\n"
     ]
    }
   ],
   "source": [
    "######-----Ribonucleotides---class RibonucleotideDB()---######\n",
    "uridine = RibonucleotideDB().getRibonucleotide(b\"U\")\n",
    "\n",
    "#print some of Ribonucleotide information  :\n",
    "print(\"Name : \",uridine.getName())\n",
    "print(\"Letter Code :\",uridine.getCode())\n",
    "print(\"avrage mass:\",uridine.getAvgMass())\n",
    "print(\"mono mass:\",uridine.getMonoMass())\n",
    "print(\"structure: \",uridine.getFormula().toString())\n",
    "print(\"is Modified:\",uridine.isModified())\n",
    "methyladenosine = RibonucleotideDB().getRibonucleotide(b\"m1A\")\n",
    "\n",
    "print(methyladenosine.getName())\n",
    "print(methyladenosine.isModified())\n",
    "\n",
    "\n"
   ]
  },
  {
   "cell_type": "code",
   "execution_count": null,
   "id": "e4101c56",
   "metadata": {},
   "outputs": [],
   "source": []
  }
 ],
 "metadata": {
  "kernelspec": {
   "display_name": "Python 3 (ipykernel)",
   "language": "python",
   "name": "python3"
  },
  "language_info": {
   "codemirror_mode": {
    "name": "ipython",
    "version": 3
   },
   "file_extension": ".py",
   "mimetype": "text/x-python",
   "name": "python",
   "nbconvert_exporter": "python",
   "pygments_lexer": "ipython3",
   "version": "3.7.1"
  }
 },
 "nbformat": 4,
 "nbformat_minor": 5
}
