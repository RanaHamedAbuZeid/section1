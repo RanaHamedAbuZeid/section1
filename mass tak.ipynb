{
 "cells": [
  {
   "cell_type": "code",
   "execution_count": 5,
   "id": "fddfab6b",
   "metadata": {},
   "outputs": [
    {
     "name": "stdout",
     "output_type": "stream",
     "text": [
      "the mass of VAKA IS ->  387.2481710527\n"
     ]
    }
   ],
   "source": [
    "# task to find the mass equality :\n",
    "\n",
    "from pyopenms import *\n",
    "\n",
    "first_Mass=AASequence.fromString(\"VAKA\")  \n",
    "mass1=first_Mass.getMonoWeight() \n",
    "#the whole mass of \"VAKA\" is :\n",
    "\n",
    "print(\"the mass of VAKA IS -> \", mass1)\n",
    "\n"
   ]
  },
  {
   "cell_type": "code",
   "execution_count": 6,
   "id": "7ad9a68d",
   "metadata": {},
   "outputs": [
    {
     "name": "stdout",
     "output_type": "stream",
     "text": [
      "each amino acid mass ->\n",
      "Valine ->  117.0789793509\n",
      "Alanine ->  89.04767922330001\n",
      "Lysine ->  146.1055284466\n",
      "Alanine ->  89.04767922330001\n"
     ]
    }
   ],
   "source": [
    "#find each aminoacid mass alone :\n",
    "\n",
    "print(\"each amino acid mass ->\" )\n",
    "\n",
    "for amino_Acid in first_Mass:\n",
    "    print(amino_Acid.getName(), \"-> \", amino_Acid.getMonoWeight())\n",
    "\n"
   ]
  },
  {
   "cell_type": "code",
   "execution_count": 17,
   "id": "56515eea",
   "metadata": {},
   "outputs": [
    {
     "name": "stdout",
     "output_type": "stream",
     "text": [
      "the total for all amino acids masses ->  441.2798662441\n",
      "masses are NOT equal \n"
     ]
    }
   ],
   "source": [
    "#now check if the total amino acids mass equal to the peptide \"VAKA\" mass or not: \n",
    "sum=0\n",
    "for amino_Acid in first_Mass:\n",
    "    sum=sum+amino_Acid.getMonoWeight()\n",
    "print(\"the total for all amino acids masses -> \",sum)\n",
    "\n",
    "if(sum == mass1):\n",
    "    print(\"masses are equall \")\n",
    "else:\n",
    "    print(\"masses are NOT equal \")\n"
   ]
  },
  {
   "cell_type": "code",
   "execution_count": null,
   "id": "fbe3d1cb",
   "metadata": {},
   "outputs": [],
   "source": []
  }
 ],
 "metadata": {
  "kernelspec": {
   "display_name": "Python 3 (ipykernel)",
   "language": "python",
   "name": "python3"
  },
  "language_info": {
   "codemirror_mode": {
    "name": "ipython",
    "version": 3
   },
   "file_extension": ".py",
   "mimetype": "text/x-python",
   "name": "python",
   "nbconvert_exporter": "python",
   "pygments_lexer": "ipython3",
   "version": "3.7.1"
  }
 },
 "nbformat": 4,
 "nbformat_minor": 5
}
